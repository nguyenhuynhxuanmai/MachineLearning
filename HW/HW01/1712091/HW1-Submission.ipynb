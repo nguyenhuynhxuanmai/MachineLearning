{
 "cells": [
  {
   "cell_type": "markdown",
   "metadata": {},
   "source": [
    "# Bài tập 1\n",
    "\n",
    "### *Nguyễn Huỳnh Xuân Mai - 1712091*"
   ]
  },
  {
   "cell_type": "markdown",
   "metadata": {},
   "source": [
    "## Câu 1 (1 điểm)"
   ]
  },
  {
   "cell_type": "markdown",
   "metadata": {},
   "source": [
    "*(i) Một hệ thống phân loại tiền xu được tạo ra cho máy bán hàng tự động. Các nhà phát triển có được các thông số kỹ thuật tiền xu chính xác từ Hoa Kỳ Mint và lấy ra một mô hình thống kê về kích thước, trọng lượng và mệnh giá, mà máy bán hàng tự động sau đó sử dụng để phân loại tiền.*\n",
    "\n",
    "- Bài toán này chúng ta có thể tìm ra được quy luật/công thức để xác định loại tiền xu dựa trên kích thước, trọng lượng\n",
    "- One Cent\" (1 cent), \"One Nickel\" (1 nickel, giá trị 5 cent), \"One Dime\" (1 dime, giá trị 10 cent), \"Quarter Dollar\" (1 quarter, có giá trị 25 cent) (theo bên Mỹ hiện tại chỉ xài có 4 loại tiền xu này), chúng có kích thước và trọng lượng hoàn toàn khác nhau nên ta có thể phân loại chúng dễ dàng mà không cần phải học máy."
   ]
  },
  {
   "cell_type": "markdown",
   "metadata": {},
   "source": [
    "*(ii) Thay vì gọi Mint Hoa Kỳ để lấy thông tin về đồng xu, một thuật toán được trình bày với một bộ lớn các đồng tiền được dán nhãn. Thuật toán sử dụng dữ liệu này để suy ra các ranh giới quyết định mà máy bán hàng tự động sử dụng để phân loại tiền của nó*\n",
    "\n",
    "- Bài toán này chúng ta có input và output đã được dán nhãn\n",
    "- Sử dụng thuật toán suy ra ranh giới quyết định để máy có thể tự động phân loại tiền và cụ thể rằng chúng ta không biết quy luật/công thức hình thành giữa các đồng xu như thế nào\n",
    "\n",
    "Từ hai lý do trên, đây là bài toán học máy có giám sát"
   ]
  },
  {
   "cell_type": "markdown",
   "metadata": {},
   "source": [
    "*(iii) Một máy tính phát triển chiến lược chơi Tic-Tac-Toe bằng cách chơi lặp lại và điều chỉnh chiến lược của nó bằng cách phạt các nước đi cuối cùng dẫn đến thua*\n",
    "\n",
    "- Bản chất của RL là trial-and-error, nghĩa là thử đi thử lại và rút ra kinh nghiệm sau mỗi lần thử như vậy. RL là học cái để thực hiện, tức là từ các tình huống thực tế để đưa ra các action nhất định, miễn là maximum được reward. Hệ thống của mình nó không được bảo về cái action để thực hiện mà thay vào đó phải khám phá ra action có thể tạo ra được nhiều reward nhất\n",
    "- Mà \"chiến lược chơi Tic-Tac-Toe\" ở trên đúng theo bản chất của RL\n",
    "\n",
    "Từ đó, đây là bài toán học tăng cường"
   ]
  },
  {
   "cell_type": "markdown",
   "metadata": {
    "deletable": false,
    "nbgrader": {
     "cell_type": "markdown",
     "checksum": "2e83d862b3c5fd4fb57d72c50e8115f8",
     "grade": true,
     "grade_id": "c1",
     "locked": false,
     "points": 1,
     "schema_version": 3,
     "solution": true,
     "task": false
    }
   },
   "source": [
    "#### ĐÁP ÁN LÀ:\n",
    "d. (i) Not learning, (ii) Supervised Learning, (iii) Reinforcement Learning"
   ]
  },
  {
   "cell_type": "markdown",
   "metadata": {
    "heading_collapsed": true
   },
   "source": [
    "## Câu 2 (1 điểm)"
   ]
  },
  {
   "cell_type": "markdown",
   "metadata": {},
   "source": [
    "*(i) Phân loại số thành số nguyên tố/không là số nguyên tố*\n",
    "\n",
    "Chúng ta có thể viết công thức/thuật toán để tìm số nguyên tố như sau:\n",
    "- Bước 1: Nhập vào n\n",
    "- Bước 2: Kiểm tra nếu n < 2 thì kết luận n không phải là số nguyên tố\n",
    "- Bước 3: Lặp từ 2 tới (n-1), nếu trong khoảng này tồn tại số mà n chia hết thì kết luận n không phải là số nguyên tố, ngược lại n là số nguyên tố.\n",
    "\n",
    "Vì vậy, (i) không là bài toán ML"
   ]
  },
  {
   "cell_type": "markdown",
   "metadata": {},
   "source": [
    "*(ii) Phát hiện gian lận tiềm ẩn trong phí thẻ tín dụng*\n",
    "\n",
    "Xét 3 yếu tố cấu thành bài toán ML:\n",
    "- Dữ liệu: Hiện nay, DL đã được public trên [Kaggle](http://work.caltech.edu/homeworks.html)\n",
    "- Công thức: Phát hiện gian lận là một vấn đề phân loại. Ngoài ra, vì các nhà khoa học chỉ có thể xem xét một số lượng giao dịch hạn chế, xác suất giao dịch là gian lận quan trọng hơn so với phân loại thực sự. Do đó, một thuật toán tốt để sử dụng cho phân tích ban đầu là hồi quy logistic. Điều này là do kết quả chỉ có hai giá trị có thể và cũng quan tâm đến xác suất.\n",
    "- Mẫu tồn tại.\n",
    "\n",
    "Vì vậy, (ii) là bài toán ML"
   ]
  },
  {
   "cell_type": "markdown",
   "metadata": {},
   "source": [
    "*(iii) Xác định thời gian nó sẽ đưa một vật rơi xuống đất*\n",
    "\n",
    "Ta có công thức tính quãng đường vật đi được khi rơi tự do là s = $1/2$*$gt^{2}$. Trong đó, g là gia tốc rơi tự do, t là thời gian rơi của vật.\n",
    "\n",
    "Từ đó, dễ dàng suy ra được công thức tính thời gian rơi của vật từ công thức đã đề cập ở trên\n",
    "\n",
    "Vì vậy, (iii) không là bài toán ML"
   ]
  },
  {
   "cell_type": "markdown",
   "metadata": {},
   "source": [
    "*(iv) Xác định chu kỳ tối ưu cho đèn tra trong giao lộ bận rộn*\n",
    "\n",
    "Xét 3 yếu tố cấu thành bài toán ML\n",
    "- Mẫu có tồn tại\n",
    "- Công thức: Ta không thể áp dụng công thức xác suất nào để có thể viết cho chu kì tối ưu vì nó sẽ không tuân theo bất kì quy luật nào ở tại mỗi thời điểm, nhất là trong giao lộ bận rộn. Áp dụng bài toán học có giám sát (có thể áp dụng SVM cho bài toán hồi quy) để đưa ra dự đoán \n",
    "- Dữ liệu: Có thể thu thập từ các trạm quan sát. \n",
    "\n",
    "Vì vậy, (iv) là bài toán ML"
   ]
  },
  {
   "cell_type": "markdown",
   "metadata": {
    "deletable": false,
    "hidden": true,
    "nbgrader": {
     "cell_type": "markdown",
     "checksum": "47d4e2bb3e4812ef7b37e032a898cfec",
     "grade": true,
     "grade_id": "c2",
     "locked": false,
     "points": 1,
     "schema_version": 3,
     "solution": true,
     "task": false
    }
   },
   "source": [
    "#### ĐÁP ÁN LÀ:\n",
    "a. (ii) and (iv) "
   ]
  },
  {
   "cell_type": "markdown",
   "metadata": {
    "heading_collapsed": true
   },
   "source": [
    "## Câu 3 (1 điểm)"
   ]
  },
  {
   "cell_type": "markdown",
   "metadata": {},
   "source": [
    "*Có 2 túi đục, mỗi túi chứa 2 quả bóng. Một túi có 2 quả bóng màu đen và túi kia có một quả bóng màu đen và một quả bóng màu trắng. Bạn chọn một túi ngẫu nhiên và sau đó chọn một trong những quả bóng trong túi đó một cách ngẫu nhiên. Khi bạn nhìn vào quả bóng, nó có màu đen. Bây giờ bạn chọn quả bóng thứ hai từ cùng một túi. Xác suất mà quả bóng này cũng màu đen là gì?*\n",
    "\n",
    "Ký hiệu các thành phần trong bài toán như sau:\n",
    "- B: Bóng đen\n",
    "- W: Bóng trắng\n",
    "- BagBB: Túi có 2 bóng đen\n",
    "- BagWB: Túi có 1 bóng đen, 1 bóng trắng\n",
    "\n",
    "Từ đề bài, ta có các hành động (không gian mẫu) như sau:\n",
    "- BagBB-B-B *(1)*\n",
    "- BagBB-B-B *(2)*\n",
    "- BagWB-B-W *(3)*\n",
    "- BagWB-W-B *(4)*\n",
    "\n",
    "Theo giả thiết, quả bóng đầu tiên được chọn phải có màu đen nên chỉ áp dụng ba trường hợp đầu (1) (2) (3) trong không gian mẫu. Theo yêu cầu đề bài, chọn quả bóng thứ hai từ cùng một túi sao cho bóng này cũng màu đen thì chỉ có trờng hợp (2) và (4). \n",
    "\n",
    "Vì vậy, xác suất bóng thứ hai có màu đen là 2/3."
   ]
  },
  {
   "cell_type": "markdown",
   "metadata": {
    "deletable": false,
    "hidden": true,
    "nbgrader": {
     "cell_type": "markdown",
     "checksum": "0997a909d9ab1f250c2bfd0645fee970",
     "grade": true,
     "grade_id": "c3",
     "locked": false,
     "points": 1,
     "schema_version": 3,
     "solution": true,
     "task": false
    }
   },
   "source": [
    "#### ĐÁP ÁN LÀ:\n",
    "d.  2/3 "
   ]
  },
  {
   "cell_type": "markdown",
   "metadata": {
    "heading_collapsed": true
   },
   "source": [
    "## Câu 4 (1 điểm)"
   ]
  },
  {
   "cell_type": "markdown",
   "metadata": {},
   "source": [
    "*Xét một mẫu gồm 10 viên bi được rút ra từ một thùng chứa các viên bi màu đỏ và màu xanh lá cây. Xác suất mà bất kỳ viên bi nào chúng ta vẽ là màu đỏ là 0,5 = (độc lập, có thay thế). Chúng tôi giải quyết xác suất không nhận được viên bi đỏ (ν = 0) trong các trường hợp sau: Xét 1 mẫu. Tính xác suất ν = 0. Câu trả lời gần nhất là (‘câu trả lời gần nhất có nghĩa là: | câu trả lời của bạn − tùy chọn đã cho | gần nhất với 0)*\n",
    "\n",
    "Theo đề bài, ta có:\n",
    "- N = 10\n",
    "- Xác suất bốc trúng bi đỏ là 0.55 => xác suất không bốc trúng bi đỏ là (1 - 0.55) = 0.45\n",
    "- Vậy, xác suất bốc 10 viên mà không bốc trúng bi đỏ nào nghĩa là 0.45^10 = 0.0003405063\n",
    "- Đáp án gần nhất = 0.0003405063 - 3.405×10^(-4)  = 0"
   ]
  },
  {
   "cell_type": "markdown",
   "metadata": {
    "deletable": false,
    "hidden": true,
    "nbgrader": {
     "cell_type": "markdown",
     "checksum": "efabab5c4035a6864ac8cb3e0061c6f0",
     "grade": true,
     "grade_id": "c4",
     "locked": false,
     "points": 1,
     "schema_version": 3,
     "solution": true,
     "task": false
    }
   },
   "source": [
    "#### ĐÁP ÁN LÀ:\n",
    "b.  3.405×10^(-4)"
   ]
  },
  {
   "cell_type": "markdown",
   "metadata": {
    "heading_collapsed": true
   },
   "source": [
    "## Câu 5 (1 điểm)"
   ]
  },
  {
   "cell_type": "markdown",
   "metadata": {},
   "source": [
    "*Xét một mẫu gồm 10 viên bi được rút ra từ một thùng chứa các viên bi màu đỏ và màu xanh lá cây. Xác suất mà bất kỳ viên bi nào chúng ta vẽ là màu đỏ là 0,5 = (độc lập, có thay thế). Chúng tôi giải quyết xác suất không nhận được viên bi đỏ (ν = 0) trong các trường hợp sau: Xét 1000 mẫu. Tính xác suất để (ít nhất) một trong các mẫu có ν = 0.. Câu trả lời gần nhất là (‘câu trả lời gần nhất có nghĩa là: | câu trả lời của bạn − tùy chọn đã cho | gần nhất với 0)*\n",
    "\n",
    "Theo Câu 4 và đề bài, ta có: \n",
    "- Xác suất để ít nhất một mẫu không xuất hiện bi đỏ = $1$ - $C^{0}_{1000}$ * $p^{0}$ * $(1-p)^{1000-0}$\n",
    "- Trong đó: p là xác suất bốc 10 viên bi trong 1 mẫu mà không xuất hiện bi đỏ => $p = 0.0003405$\n",
    "- Vậy, thế vào công thức trên, ta được: $1$ - $C^{0}_{1000}$ * $0.0003405^{0}$ * $0.0003405^{1000-0}$ = $0.289$"
   ]
  },
  {
   "cell_type": "markdown",
   "metadata": {
    "deletable": false,
    "hidden": true,
    "nbgrader": {
     "cell_type": "markdown",
     "checksum": "0b484b8390bec96142e8a1213ee8cd2c",
     "grade": true,
     "grade_id": "c5",
     "locked": false,
     "points": 1,
     "schema_version": 3,
     "solution": true,
     "task": false
    }
   },
   "source": [
    "#### ĐÁP ÁN LÀ:\n",
    "c. 0.289"
   ]
  },
  {
   "cell_type": "markdown",
   "metadata": {
    "heading_collapsed": true
   },
   "source": [
    "## Câu 6 (1 điểm)"
   ]
  },
  {
   "cell_type": "markdown",
   "metadata": {},
   "source": [
    "- Đối với từng trường hợp học sau đây trong bài toán trên, ta sẽ sẽ đánh giá hiệu suất của $g$ trên ba điểm trong X nằm bên ngoài $D$. Để đo hiệu suất, ta sẽ tính xem có bao nhiêu trong số 8 hàm mục tiêu có thể đồng ý với $g$ trên cả ba điểm, hai điểm, một điểm và không điểm nào.\n",
    "    - Xét trên giả thuyết, ta có 3 điểm nằm ngoài $D$ và lần lượt kí hiệu chúng là $X_1, X_2, X_3$ như sau:\n",
    "    $$X_1 = 101$$ $$X_2 = 110$$ $$X_3 = 111$$\n",
    "    - 8 hàm mục tiêu $F_i(x)$ ($i$ = 1 ... 8) cho 3 điểm dữ liệu $X_1, X_2, X_3$ là:"
   ]
  },
  {
   "cell_type": "markdown",
   "metadata": {},
   "source": [
    "| $F_1(x)$ | $F_2(x)$ | $F_3(x)$ | $F_4(x)$ | $F_5(x)$ | $F_6(x)$ | $F_7(x)$ | $F_8(x)$ |\n",
    "|:-------:|:------:|:-------:|:-------:|:-------:|:-------:|:-------:|:-------:|\n",
    "|$F_1(X_1) = 0$|$F_2(X_1) = 0$|$F_3(X_1) = 0$|$F_4(X_1) = 0$|$F_5(X_1) = 1$|$F_6(X_1) = 1$|$F_7(X_1) = 1$|$F_8(X_1) = 1$| \n",
    "|$F_1(X_2) = 0$|$F_2(X_2) = 0$|$F_3(X_2) = 1$|$F_4(X_2) = 1$|$F_5(X_2) = 0$|$F_6(X_2) = 0$|$F_7(X_2) = 1$|$F_8(X_2) = 1$|\n",
    "|$F_1(X_3) = 0$|$F_2(X_3) = 1$|$F_3(X_3) = 0$|$F_4(X_3) = 1$|$F_5(X_3) = 0$|$F_6(X_3) = 1$|$F_7(X_3) = 0$|$F_8(X_3) = 1$| "
   ]
  },
  {
   "cell_type": "markdown",
   "metadata": {},
   "source": [
    "- $H$ có 2 hypothesis, một là luôn trả về giá trị 1 (chấm tròn đen); một là luôn trả về giá trị 0 (chấm tròn trắng). Thuật toán học sẽ chọn cái nào mà phù hợp với dữ liệu nhiều nhất.\n",
    "\n",
    "    - Xét Hypothesis $g_1$ cho kết quả trả về = 1 trên cả 3 điểm dữ liệu $X_1, X_2, X_3$:\n",
    "         - Thỏa 3 điểm dữ liệu $X_1, X_2, X_3$: {$F_8(x)$}\n",
    "         - Thỏa 2 điểm dữ liệu $X_1, X_2, X_3$: {$F_4(x)$, $F_6(x)$, $F_7(x)$}\n",
    "         - Thỏa 1 điểm dữ liệu $X_1, X_2, X_3$: {$F_2(x)$, $F_3(x)$, $F_5(x)$}\n",
    "         - $\\implies Score_1 = 3 \\times 1 + 2 \\times 3 + 1 \\times 3  = 12$\n",
    "\n",
    "    - Xét Hypothesis $g_2$ cho kết quả trả về = 0 trên cả 3 điểm dữ liệu $X_1, X_2, X_3$:\n",
    "         - Thỏa 3 điểm dữ liệu $X_1, X_2, X_3$: {$F_1(x)$}\n",
    "         - Thỏa 2 điểm dữ liệu $X_1, X_2, X_3$: {$F_2(x)$, $F_3(x)$, $F_5(x)$}\n",
    "         - Thỏa 1 điểm dữ liệu $X_1, X_2, X_3$: {$F_4(x)$, $F_6(x)$, $F_7(x)$}\n",
    "         - $\\implies Score_2 = 3 \\times 1 + 2 \\times 3 + 1 \\times 3  = 12$\n",
    "\n",
    "- $H$ = {XOR} (chỉ một hypothesis mà luôn được chọn), XOR được định nghĩa là tại XOR(x) = 1 nếu số lượng x = 1 là lẻ và số lượng x = 0 là lẻ; XOR(x) = 0 nếu số lượng x = 1 là chẵn và số lượng x = 0 là chẵn.\n",
    "    - Xét Hypothesis $g_3$ cho hàm XOR trên 3 điểm dữ liệu $X_1, X_2, X_3$:\n",
    "        - Thỏa 3 điểm dữ liệu $X_1, X_2, X_3$: {$F_2(x)$}\n",
    "        - Thỏa 2 điểm dữ liệu $X_1, X_2, X_3$: {$F_1(x)$, $F_4(x)$, $F_6(x)$}\n",
    "        - Thỏa 1 điểm dữ liệu $X_1, X_2, X_3$: {$F_3(x)$, $F_5(x)$, $F_8(x)$}\n",
    "        - $\\implies Score_3 = 3 \\times 1 + 2 \\times 3 + 1 \\times 3  = 12$\n",
    "        \n",
    "- $H$ = ngược {XOR} (chỉ một hypothesis mà luôn được chọn), XOR được định nghĩa là tại XOR(x) = 1 nếu số lượng x = 1 là chẵn và số lượng x = 0 là chẵn; XOR(x) = 0 nếu số lượng x = 1 là lẻ và số lượng x = 0 là lẻ.\n",
    "    - Xét Hypothesis $g_4$ cho hàm XOR trên 3 điểm dữ liệu $X_1, X_2, X_3$:\n",
    "        - Thỏa 3 điểm dữ liệu $X_1, X_2, X_3$: {$F_7(x)$}\n",
    "        - Thỏa 2 điểm dữ liệu $X_1, X_2, X_3$: {$F_3(x)$, $F_5(x)$, $F_8(x)$} \n",
    "        - Thỏa 1 điểm dữ liệu $X_1, X_2, X_3$: {$F_1(x)$, $F_4(x)$, $F_6(x)$}\n",
    "        - $\\implies Score_4 = 3 \\times 1 + 2 \\times 3 + 1 \\times 3  = 12$\n",
    "\n",
    "- Final Hypothesis $g$ sẽ được chọn dựa trên 5 ví dụ (điểm dữ liệu nằm trong X) có trong giả thiết $D$. Nếu chúng ta vẫn đúng với khái niệm về *unknown target*, chúng ta không thể loại trừ bất kỳ $F_1(x)$, ..., $F_8(x)$ nào là $F$ thực sự. Bây giờ, ta gặp một vấn đề nan giải: toàn bộ mục đích của việc học $F$ là để có thể dự đoán giá trị của $F$ dựa trên điểm mà chúng ta chưa từng biết trước đây (3 điểm ngoài $D$). Chất lượng việc học sẽ được xác định bởi mức độ dự đoán gần với giá trị thực. Bất chấp những gì $g$ dự đoán về 3 điểm chúng ta chưa từng thấy trước đây (những điểm nằm ngoài $D$), nó có thể đồng ý hoặc không đồng ý với mục tiêu.\n",
    "\n",
    "- Nó sẽ không thay đổi gì khi thuật toán chọn là gì hay Hypothesis set $H$ dùng là gì. Liệu $H$ có hypothesis mà hoàn toàn đúng cho $D$ hay không? Liệu mà thuật toán học có chọn Hypothesis này hay là chọn một Hypothesis khác mà đúng trên $D$. $H$ bao gồm tất cả các trường hợp có thể của Hypothesis (tất cả hàm Boolean trên 3 điểm dữ liệu), và thuật toán học chọn Hypothesis mà đồng ý với mẫu huấn luyện, nhưng nó cũng không đồng ý nhiều nhất với XOR. \n"
   ]
  },
  {
   "cell_type": "markdown",
   "metadata": {
    "deletable": false,
    "hidden": true,
    "nbgrader": {
     "cell_type": "markdown",
     "checksum": "26f542221236fb24d0ddbee584eed7d0",
     "grade": true,
     "grade_id": "c6",
     "locked": false,
     "points": 1,
     "schema_version": 3,
     "solution": true,
     "task": false
    }
   },
   "source": [
    "#### ĐÁP ÁN LÀ:\n",
    "e. They are all equivalent (equal scores for g in [a] through [d])."
   ]
  },
  {
   "cell_type": "markdown",
   "metadata": {
    "heading_collapsed": true
   },
   "source": [
    "## Câu 7 (1 điểm)"
   ]
  },
  {
   "cell_type": "code",
   "execution_count": 1,
   "metadata": {},
   "outputs": [],
   "source": [
    "import numpy as np"
   ]
  },
  {
   "cell_type": "code",
   "execution_count": 2,
   "metadata": {},
   "outputs": [],
   "source": [
    "def generate_target_w():\n",
    "    \"\"\"\n",
    "    Generates target_w (the vector of parameters of f) \n",
    "    from two random, uniformly distributed points in [-1, 1] x [-1, 1].\n",
    "    \n",
    "    Returns\n",
    "    -------\n",
    "    target_w : numpy array, shape (3, 1) \n",
    "        The vector of parameters of f.\n",
    "    \"\"\"\n",
    "    # Generate two points from a uniform distribution over [-1, 1]x[-1, 1]\n",
    "    p1 = np.random.uniform(-1, 1, 2)\n",
    "    p2 = np.random.uniform(-1, 1, 2)\n",
    "    # Compute the target W from these two points\n",
    "    target_w = np.array([p1[1]*p2[0] - p1[0]*p2[1], p2[1] - p1[1], p1[0] - p2[0]]).reshape((-1, 1))\n",
    "    \n",
    "    return target_w"
   ]
  },
  {
   "cell_type": "code",
   "execution_count": 3,
   "metadata": {},
   "outputs": [],
   "source": [
    "def generate_data(N, target_w):\n",
    "    \"\"\"\n",
    "    Generates a data set by generating random inputs and then using target_w to generate the \n",
    "    corresponding outputs.\n",
    "    \n",
    "    Parameters\n",
    "    ----------\n",
    "    N : int\n",
    "        The number of examples.\n",
    "    target_w : numpy array, shape (3, 1) \n",
    "        The vector of parameters of f.\n",
    "    \n",
    "    Returns\n",
    "    -------\n",
    "    X : numpy array, shape (N, 3)\n",
    "        The matrix of input vectors (each row corresponds to an input vector); the first column of \n",
    "        this matrix is all ones.\n",
    "    Y : numpy array, shape (N, 1)\n",
    "        The vector of outputs.        \n",
    "    \"\"\"\n",
    "    bad_data = True # `bad_data = True` means: data contain points on the target line \n",
    "                    # (this rarely happens, but just to be careful)\n",
    "                    # -> y's of these points = 0 (with np.sign); \n",
    "                    #    we don't want this (y's of data must be -1 or 1)\n",
    "                    # -> re-generate data until `bad_data = False`\n",
    "    \n",
    "    while bad_data == True:\n",
    "        X = np.random.uniform(-1, 1, (N, 2))\n",
    "        X = np.hstack((np.ones((N, 1)), X)) # Add 'ones' column\n",
    "        Y = np.sign(np.dot(X, target_w))\n",
    "        if (0 not in Y): # Good data\n",
    "            bad_data = False\n",
    "    \n",
    "    return X, Y"
   ]
  },
  {
   "cell_type": "code",
   "execution_count": 4,
   "metadata": {},
   "outputs": [],
   "source": [
    "def run_PLA(X, Y):\n",
    "    \"\"\"\n",
    "    Runs PLA.\n",
    "    \n",
    "    Parameters\n",
    "    ----------\n",
    "    X : numpy array, shape (N, 3)\n",
    "        The matrix of input vectors (each row corresponds to an input vector); the first column of \n",
    "        this matrix is all ones.\n",
    "    Y : numpy array, shape (N, 1)\n",
    "        The vector of outputs.\n",
    "    \n",
    "    Returns\n",
    "    -------\n",
    "    w : numpy array, shape (3, 1) \n",
    "        The vector of parameters of g.\n",
    "    num_iterations : int\n",
    "        The number of iterations PLA takes to converge.\n",
    "    \"\"\"\n",
    "    \n",
    "    w = np.zeros((X.shape[1], 1)) # Init w\n",
    "    iteration = 0\n",
    "    stop = False      \n",
    "    # TODO\n",
    "    miss_point = np.random.choice(X.shape[0],size = 1)[0]\n",
    "    w = w + (X[miss_point]*Y[miss_point]).reshape(-1,1)\n",
    "    iteration += 1\n",
    "    while stop == False:\n",
    "        hx = np.sign(np.dot(X,w))\n",
    "        miss_set = np.where(hx != Y)[0]\n",
    "        if np.sum(miss_set) :       \n",
    "            miss_point = np.random.choice(miss_set,size = 1)\n",
    "            w = w + (X[miss_point]*Y[miss_point]).reshape(-1,1)\n",
    "            iteration +=1\n",
    "        else :\n",
    "            stop = True\n",
    "    return w, iteration"
   ]
  },
  {
   "cell_type": "code",
   "execution_count": 5,
   "metadata": {},
   "outputs": [],
   "source": [
    "def main(N): # You don't have to name this function \"main\", you can use other names\n",
    "    \"\"\"\n",
    "    Parameters\n",
    "    ----------\n",
    "    N : int\n",
    "        The number of training examples.\n",
    "    \"\"\"\n",
    "    num_runs = 1000\n",
    "    avg_num_iterations = 0.0 # The average number of iterations PLA takes to converge\n",
    "    avg_test_err = 0.0 # The average test error of g - the final hypothesis picked by PLA\n",
    "    \n",
    "    for r in range(num_runs):\n",
    "        # Generate target_w\n",
    "        target_w = generate_target_w()\n",
    "        \n",
    "        # Generate training set\n",
    "        X, Y = generate_data(N, target_w)\n",
    "        \n",
    "        # Run PLA to pick g\n",
    "        w, num_iterations = run_PLA(X, Y)\n",
    "        \n",
    "        # Generate test set\n",
    "        X_test, Y_test = generate_data(10000, target_w)\n",
    "        \n",
    "        # Test g\n",
    "        test_err = np.mean(np.sign(np.dot(X_test, w)) != Y_test)\n",
    "        \n",
    "        # Update average values\n",
    "        avg_num_iterations += (num_iterations * 1.0 / num_runs)\n",
    "        avg_test_err += (test_err * 1.0 / num_runs)\n",
    "    \n",
    "    # Print results\n",
    "    print('avg_num_iterations = %f' % (avg_num_iterations))\n",
    "    print('avg_test_err = %f' % (avg_test_err))"
   ]
  },
  {
   "cell_type": "code",
   "execution_count": 6,
   "metadata": {},
   "outputs": [
    {
     "name": "stdout",
     "output_type": "stream",
     "text": [
      "avg_num_iterations = 8.155000\n",
      "avg_test_err = 0.117265\n"
     ]
    }
   ],
   "source": [
    "# Run to find out answers for question 7 & 8! \n",
    "main(N = 10) # We can use `main(10)`, but `main(N=10)` is clearer"
   ]
  },
  {
   "cell_type": "code",
   "execution_count": 7,
   "metadata": {},
   "outputs": [
    {
     "name": "stdout",
     "output_type": "stream",
     "text": [
      "avg_num_iterations = 104.933000\n",
      "avg_test_err = 0.013736\n"
     ]
    }
   ],
   "source": [
    "# Question 9 & 10\n",
    "main(N = 100)"
   ]
  },
  {
   "cell_type": "markdown",
   "metadata": {
    "deletable": false,
    "hidden": true,
    "nbgrader": {
     "cell_type": "markdown",
     "checksum": "322a244b0fae3a20ec568a5099aaaec1",
     "grade": true,
     "grade_id": "c7",
     "locked": false,
     "points": 1,
     "schema_version": 3,
     "solution": true,
     "task": false
    }
   },
   "source": [
    "#### ĐÁP ÁN LÀ:\n",
    "b. 15 "
   ]
  },
  {
   "cell_type": "markdown",
   "metadata": {
    "heading_collapsed": true
   },
   "source": [
    "## Câu 8 (1 điểm)"
   ]
  },
  {
   "cell_type": "markdown",
   "metadata": {
    "deletable": false,
    "hidden": true,
    "nbgrader": {
     "cell_type": "markdown",
     "checksum": "d81773f072cd15e4a27b6cd240a5d990",
     "grade": true,
     "grade_id": "c8",
     "locked": false,
     "points": 1,
     "schema_version": 3,
     "solution": true,
     "task": false
    }
   },
   "source": [
    "#### ĐÁP ÁN LÀ:\n",
    "c. 0.1 "
   ]
  },
  {
   "cell_type": "markdown",
   "metadata": {
    "heading_collapsed": true
   },
   "source": [
    "## Câu 9 (1 điểm)"
   ]
  },
  {
   "cell_type": "markdown",
   "metadata": {
    "deletable": false,
    "hidden": true,
    "nbgrader": {
     "cell_type": "markdown",
     "checksum": "e814a2db0b8a53e4fddfee4bcbf405fc",
     "grade": true,
     "grade_id": "c9",
     "locked": false,
     "points": 1,
     "schema_version": 3,
     "solution": true,
     "task": false
    }
   },
   "source": [
    "#### ĐÁP ÁN LÀ:\n",
    "b. 100"
   ]
  },
  {
   "cell_type": "markdown",
   "metadata": {},
   "source": [
    "## Câu 10 (1 điểm)"
   ]
  },
  {
   "cell_type": "markdown",
   "metadata": {
    "deletable": false,
    "nbgrader": {
     "cell_type": "markdown",
     "checksum": "41cbf5c6d2b94eeae0a712be2181fef6",
     "grade": true,
     "grade_id": "c10",
     "locked": false,
     "points": 1,
     "schema_version": 3,
     "solution": true,
     "task": false
    }
   },
   "source": [
    "#### ĐÁP ÁN LÀ:\n",
    "d. 0.01"
   ]
  }
 ],
 "metadata": {
  "kernelspec": {
   "display_name": "Python 3",
   "language": "python",
   "name": "python3"
  },
  "language_info": {
   "codemirror_mode": {
    "name": "ipython",
    "version": 3
   },
   "file_extension": ".py",
   "mimetype": "text/x-python",
   "name": "python",
   "nbconvert_exporter": "python",
   "pygments_lexer": "ipython3",
   "version": "3.7.6"
  },
  "toc": {
   "base_numbering": 1,
   "nav_menu": {},
   "number_sections": true,
   "sideBar": true,
   "skip_h1_title": false,
   "title_cell": "Table of Contents",
   "title_sidebar": "Contents",
   "toc_cell": false,
   "toc_position": {},
   "toc_section_display": true,
   "toc_window_display": false
  },
  "varInspector": {
   "cols": {
    "lenName": 16,
    "lenType": 16,
    "lenVar": 40
   },
   "kernels_config": {
    "python": {
     "delete_cmd_postfix": "",
     "delete_cmd_prefix": "del ",
     "library": "var_list.py",
     "varRefreshCmd": "print(var_dic_list())"
    },
    "r": {
     "delete_cmd_postfix": ") ",
     "delete_cmd_prefix": "rm(",
     "library": "var_list.r",
     "varRefreshCmd": "cat(var_dic_list()) "
    }
   },
   "types_to_exclude": [
    "module",
    "function",
    "builtin_function_or_method",
    "instance",
    "_Feature"
   ],
   "window_display": false
  }
 },
 "nbformat": 4,
 "nbformat_minor": 4
}
