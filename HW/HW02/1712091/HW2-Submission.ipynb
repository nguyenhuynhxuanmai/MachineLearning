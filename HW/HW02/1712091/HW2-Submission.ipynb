{
 "cells": [
  {
   "cell_type": "markdown",
   "metadata": {},
   "source": [
    "# Bài tập 2\n",
    "\n",
    "### *Nguyễn Huỳnh Xuân Mai - 1712091*"
   ]
  },
  {
   "cell_type": "markdown",
   "metadata": {},
   "source": [
    "## Câu 1 (1 điểm)"
   ]
  },
  {
   "cell_type": "markdown",
   "metadata": {},
   "source": [
    "*Chạy một mô phỏng máy tính để kiếm được 1.000 đồng xu ảo. Lật mỗi đồng xu độc lập 10 lần. Tập trung vào 3 đồng xu như sau: c1 là đồng tiền đầu tiên, được đặt ngẫu nhiên từ 1.000 và cmin là đồng xu có tần số đầu tối thiểu (chọn loại tiền trước trong trường hợp hòa). Đặt v1, vrand, và vmin là số phần đầu thu được cho 3 đồng xu tương ứng trong số 10 lần tung.\n",
    "Chạy thử nghiệm 100.000 lần để có được phân phối đầy đủ ν1, vrand và νmin (lưu ý rằng crand và cmin sẽ thay đổi từ chạy sang chạy).*"
   ]
  },
  {
   "cell_type": "code",
   "execution_count": 1,
   "metadata": {},
   "outputs": [],
   "source": [
    "import numpy as np\n",
    "import random"
   ]
  },
  {
   "cell_type": "code",
   "execution_count": 2,
   "metadata": {},
   "outputs": [
    {
     "name": "stdout",
     "output_type": "stream",
     "text": [
      "[[0.7 0.5 0.1 ... 0.8 0.7 0.6]\n",
      " [0.6 0.3 0.5 ... 0.5 0.4 0.2]\n",
      " [0.4 0.5 0.4 ... 0.5 0.5 0.5]\n",
      " ...\n",
      " [0.4 0.4 0.3 ... 0.2 0.7 0.3]\n",
      " [0.4 0.6 0.6 ... 0.5 0.3 0.4]\n",
      " [0.5 0.7 0.8 ... 0.7 0.4 0.4]]\n"
     ]
    }
   ],
   "source": [
    "N = 10\n",
    "mu = 0.5\n",
    "n_repeats = 100000\n",
    "n_coins = 1000\n",
    "\n",
    "nus = np.random.binomial(N, mu, (n_repeats, n_coins)) / N\n",
    "\n",
    "print(nus)"
   ]
  },
  {
   "cell_type": "code",
   "execution_count": 3,
   "metadata": {},
   "outputs": [
    {
     "name": "stdout",
     "output_type": "stream",
     "text": [
      "[[0.7]\n",
      " [0.6]\n",
      " [0.4]\n",
      " ...\n",
      " [0.4]\n",
      " [0.4]\n",
      " [0.5]]\n",
      "156\n",
      "[[0.4]\n",
      " [0.6]\n",
      " [0.5]\n",
      " ...\n",
      " [0.5]\n",
      " [0.7]\n",
      " [0.6]]\n",
      "[[0.5]\n",
      " [0.3]\n",
      " [0.5]\n",
      " ...\n",
      " [0.4]\n",
      " [0.6]\n",
      " [0.7]]\n"
     ]
    }
   ],
   "source": [
    "print(nus[:, 0].reshape(-1,1))\n",
    "i = random.randint(0,999)\n",
    "print(i)\n",
    "c_rand = nus[:, i]\n",
    "print(c_rand.reshape(-1,1))\n",
    "c1 = nus[:, 1]\n",
    "print(c1.reshape(-1,1))"
   ]
  },
  {
   "cell_type": "code",
   "execution_count": 4,
   "metadata": {},
   "outputs": [
    {
     "data": {
      "text/plain": [
       "array([[0. ],\n",
       "       [0.1],\n",
       "       [0.1],\n",
       "       ...,\n",
       "       [0. ],\n",
       "       [0.1],\n",
       "       [0.1]])"
      ]
     },
     "execution_count": 4,
     "metadata": {},
     "output_type": "execute_result"
    }
   ],
   "source": [
    "cmin = np.min(nus, axis=1).reshape(-1,1)\n",
    "cmin"
   ]
  },
  {
   "cell_type": "code",
   "execution_count": 5,
   "metadata": {
    "scrolled": true
   },
   "outputs": [
    {
     "data": {
      "text/plain": [
       "0.03734099999999999"
      ]
     },
     "execution_count": 5,
     "metadata": {},
     "output_type": "execute_result"
    }
   ],
   "source": [
    "np.mean(cmin)"
   ]
  },
  {
   "cell_type": "code",
   "execution_count": 6,
   "metadata": {},
   "outputs": [
    {
     "data": {
      "text/plain": [
       "0.500515"
      ]
     },
     "execution_count": 6,
     "metadata": {},
     "output_type": "execute_result"
    }
   ],
   "source": [
    "c1mean = np.mean(c1)\n",
    "c1mean"
   ]
  },
  {
   "cell_type": "code",
   "execution_count": 7,
   "metadata": {},
   "outputs": [
    {
     "data": {
      "text/plain": [
       "0.4991250000000001"
      ]
     },
     "execution_count": 7,
     "metadata": {},
     "output_type": "execute_result"
    }
   ],
   "source": [
    "crand_mean = np.mean(c_rand)\n",
    "crand_mean"
   ]
  },
  {
   "cell_type": "markdown",
   "metadata": {
    "deletable": false,
    "nbgrader": {
     "cell_type": "markdown",
     "checksum": "2e83d862b3c5fd4fb57d72c50e8115f8",
     "grade": true,
     "grade_id": "c1",
     "locked": false,
     "points": 1,
     "schema_version": 3,
     "solution": true,
     "task": false
    }
   },
   "source": [
    "#### ĐÁP ÁN LÀ\n",
    "[b] 0.01 "
   ]
  },
  {
   "cell_type": "markdown",
   "metadata": {},
   "source": [
    "## Câu 2 (1 điểm)"
   ]
  },
  {
   "cell_type": "code",
   "execution_count": 8,
   "metadata": {},
   "outputs": [
    {
     "data": {
      "text/plain": [
       "0.500515"
      ]
     },
     "execution_count": 8,
     "metadata": {},
     "output_type": "execute_result"
    }
   ],
   "source": [
    "c1mean = np.mean(c1)\n",
    "c1mean"
   ]
  },
  {
   "cell_type": "code",
   "execution_count": 9,
   "metadata": {},
   "outputs": [
    {
     "data": {
      "text/plain": [
       "0.4991250000000001"
      ]
     },
     "execution_count": 9,
     "metadata": {},
     "output_type": "execute_result"
    }
   ],
   "source": [
    "crand_mean = np.mean(c_rand)\n",
    "crand_mean"
   ]
  },
  {
   "cell_type": "markdown",
   "metadata": {
    "deletable": false,
    "nbgrader": {
     "cell_type": "markdown",
     "checksum": "47d4e2bb3e4812ef7b37e032a898cfec",
     "grade": true,
     "grade_id": "c2",
     "locked": false,
     "points": 1,
     "schema_version": 3,
     "solution": true,
     "task": false
    }
   },
   "source": [
    "#### ĐÁP ÁN LÀ\n",
    "[d] c1 and crand "
   ]
  },
  {
   "cell_type": "markdown",
   "metadata": {},
   "source": [
    "## Câu 3 (1 điểm)"
   ]
  },
  {
   "cell_type": "markdown",
   "metadata": {},
   "source": [
    "- Đầu tiên, ta có hàm hypothesis là $h(x)$ mà ta muốn train trên hàm target $y = f(x)$ nhưng nó sẽ phát sinh lỗi với xác suất $\\mu$. Sau khi tìm ra được $h(x)$, ta sẽ áp dụng $h(x)$ được tìm thấy đó cho một số noise data set (data trong thực tế).\n",
    "- Xác suất mà $h(x)$ gây ra lỗi trong noise data là $\\mu$ => xác suất mà $h(x)$ không gây ra lỗi trong noise data là $1 - \\mu$.\n",
    "- Xác suất mà khi ta làm sinh ra lỗi (do noise) là $1 - \\lambda$ => xác suất noise không sinh ra lỗi là $\\lambda$\n",
    "- Vì tính toán là hàm nhị phân, nên xác suất gặp lỗi khi áp dụng $h(x)$ khi có noise của $f(x)$ là:\n",
    "    - Xác suất sinh lỗi do noise: $P_1$ $=$ $1 - \\lambda$\n",
    "    - Xác suất không sinh lỗi do \"deterministic\": $P_2$ $=$ $1 - \\mu$\n",
    "    - Xác suất không sinh lỗi do noise: $P_3$ $=$ $\\lambda$\n",
    "    - Xác suất sinh lỗi do \"deterministic\": $P_4$ $=$ $\\mu$\n",
    "- Phân phối xác suất cho $\\mu$ và $\\lambda$ là thống kê độc lập.\n",
    "- Vì thế:\n",
    "    - $P_e$ $=$ $P_1$*$P_2$ + $P_3$*$P_4$\n",
    "    - $P_e$ $=$ $(1 - \\lambda)$*$(1 - \\mu)$ + $\\lambda$*$\\mu$"
   ]
  },
  {
   "cell_type": "markdown",
   "metadata": {
    "deletable": false,
    "nbgrader": {
     "cell_type": "markdown",
     "checksum": "0997a909d9ab1f250c2bfd0645fee970",
     "grade": true,
     "grade_id": "c3",
     "locked": false,
     "points": 1,
     "schema_version": 3,
     "solution": true,
     "task": false
    }
   },
   "source": [
    "#### ĐÁP ÁN LÀ\n",
    "[e] (1−λ)∗(1−µ) + λ∗µ"
   ]
  },
  {
   "cell_type": "markdown",
   "metadata": {},
   "source": [
    "## Câu 4 (1 điểm)"
   ]
  },
  {
   "cell_type": "markdown",
   "metadata": {
    "deletable": false,
    "nbgrader": {
     "cell_type": "markdown",
     "checksum": "efabab5c4035a6864ac8cb3e0061c6f0",
     "grade": true,
     "grade_id": "c4",
     "locked": false,
     "points": 1,
     "schema_version": 3,
     "solution": true,
     "task": false
    }
   },
   "source": [
    "YOUR ANSWER HERE"
   ]
  },
  {
   "cell_type": "markdown",
   "metadata": {},
   "source": [
    "## Câu 5 (1 điểm)"
   ]
  },
  {
   "cell_type": "code",
   "execution_count": 10,
   "metadata": {},
   "outputs": [],
   "source": [
    "def generate_target_w():\n",
    "    \"\"\"\n",
    "    Generates target_w (the vector of parameters of f) \n",
    "    from two random, uniformly distributed points in [-1, 1] x [-1, 1].\n",
    "    \n",
    "    Returns\n",
    "    -------\n",
    "    target_w : numpy array, shape (3, 1) \n",
    "        The vector of parameters of f.\n",
    "    \"\"\"\n",
    "    # Generate two points from a uniform distribution over [-1, 1]x[-1, 1]\n",
    "    p1 = np.random.uniform(-1, 1, 2)\n",
    "    p2 = np.random.uniform(-1, 1, 2)\n",
    "    # Compute the target W from these two points\n",
    "    target_w = np.array([p1[1]*p2[0] - p1[0]*p2[1], p2[1] - p1[1], p1[0] - p2[0]]).reshape((-1, 1))\n",
    "    \n",
    "    return target_w"
   ]
  },
  {
   "cell_type": "code",
   "execution_count": 11,
   "metadata": {},
   "outputs": [],
   "source": [
    "def generate_data(N, target_w):\n",
    "    \"\"\"\n",
    "    Generates a data set by generating random inputs and then using target_w to generate the \n",
    "    corresponding outputs.\n",
    "    \n",
    "    Parameters\n",
    "    ----------\n",
    "    N : int\n",
    "        The number of examples.\n",
    "    target_w : numpy array, shape (3, 1) \n",
    "        The vector of parameters of f.\n",
    "    \n",
    "    Returns\n",
    "    -------\n",
    "    X : numpy array, shape (N, 3)\n",
    "        The matrix of input vectors (each row corresponds to an input vector); the first column of \n",
    "        this matrix is all ones.\n",
    "    Y : numpy array, shape (N, 1)\n",
    "        The vector of outputs.        \n",
    "    \"\"\"\n",
    "    bad_data = True # `bad_data = True` means: data contain points on the target line \n",
    "                    # (this rarely happens, but just to be careful)\n",
    "                    # -> y's of these points = 0 (with np.sign); \n",
    "                    #    we don't want this (y's of data must be -1 or 1)\n",
    "                    # -> re-generate data until `bad_data = False`\n",
    "    \n",
    "    while bad_data == True:\n",
    "        X = np.random.uniform(-1, 1, (N, 2))\n",
    "        X = np.hstack((np.ones((N, 1)), X)) # Add 'ones' column\n",
    "        Y = np.sign(np.dot(X, target_w))\n",
    "        if (0 not in Y): # Good data\n",
    "            bad_data = False\n",
    "    \n",
    "    return X, Y"
   ]
  },
  {
   "cell_type": "code",
   "execution_count": 12,
   "metadata": {},
   "outputs": [],
   "source": [
    "#n:  Repeat the experiment times\n",
    "def LinearRegression(n, N):\n",
    "    avg_error = 0.0\n",
    "    for i in range (0, n):\n",
    "        #Generate the vector of parameters of f\n",
    "        target_w = generate_target_w()\n",
    "        \n",
    "        #Generates a data set\n",
    "        X, Y = generate_data(N, target_w)\n",
    "        \n",
    "        #Find w\n",
    "        X_dagger = np.dot(np.linalg.inv(np.dot(X.T, X)), X.T)\n",
    "        w = np.dot(X_dagger, Y)\n",
    "        \n",
    "        #Compute predictional output\n",
    "        predictions = np.sign(np.dot(X, w))\n",
    "        \n",
    "        #Compute average error\n",
    "        avg_error += np.mean(predictions!=Y)*1.0/n\n",
    "        \n",
    "    print('Trung binh loi: ', avg_error)"
   ]
  },
  {
   "cell_type": "code",
   "execution_count": 13,
   "metadata": {},
   "outputs": [
    {
     "name": "stdout",
     "output_type": "stream",
     "text": [
      "Trung binh loi:  0.0398599999999999\n"
     ]
    }
   ],
   "source": [
    "LinearRegression(1000, 100)"
   ]
  },
  {
   "cell_type": "markdown",
   "metadata": {
    "deletable": false,
    "nbgrader": {
     "cell_type": "markdown",
     "checksum": "0b484b8390bec96142e8a1213ee8cd2c",
     "grade": true,
     "grade_id": "c5",
     "locked": false,
     "points": 1,
     "schema_version": 3,
     "solution": true,
     "task": false
    }
   },
   "source": [
    "#### ĐÁP ÁN LÀ\n",
    "[c] 0.01"
   ]
  },
  {
   "cell_type": "markdown",
   "metadata": {},
   "source": [
    "## Câu 6 (1 điểm)"
   ]
  },
  {
   "cell_type": "code",
   "execution_count": 14,
   "metadata": {},
   "outputs": [
    {
     "name": "stdout",
     "output_type": "stream",
     "text": [
      "Trung binh loi:  0.03860000000000003\n"
     ]
    }
   ],
   "source": [
    "LinearRegression(1000, 1000)"
   ]
  },
  {
   "cell_type": "markdown",
   "metadata": {
    "deletable": false,
    "nbgrader": {
     "cell_type": "markdown",
     "checksum": "26f542221236fb24d0ddbee584eed7d0",
     "grade": true,
     "grade_id": "c6",
     "locked": false,
     "points": 1,
     "schema_version": 3,
     "solution": true,
     "task": false
    }
   },
   "source": [
    "#### ĐÁP ÁN LÀ\n",
    "[c] 0.01"
   ]
  },
  {
   "cell_type": "markdown",
   "metadata": {},
   "source": [
    "## Câu 7 (1 điểm)"
   ]
  },
  {
   "cell_type": "code",
   "execution_count": 15,
   "metadata": {},
   "outputs": [],
   "source": [
    "def PLA(N):\n",
    "    n_iterations = 0\n",
    "    #Generate the vector of parameters of f\n",
    "    target_w = generate_target_w()\n",
    "    \n",
    "    #Generates a data set\n",
    "    X, Y = generate_data(N, target_w)\n",
    "    \n",
    "    #Find w\n",
    "    X_dagger = np.dot(np.linalg.inv(np.dot(X.T, X)), X.T)\n",
    "    w = np.dot(X_dagger, Y)\n",
    "    \n",
    "    while(True):\n",
    "        #Compute predictional output\n",
    "        predictions = np.sign(np.dot(X, w))\n",
    "        errs = np.sign(predictions - Y)\n",
    "        \n",
    "        #Compute mean error (giá trị độ lỗi nhị phân trung bình)\n",
    "        mean_err = np.mean(predictions!=Y)\n",
    "        \n",
    "        #If mean error = 0, break out of the loop\n",
    "        if mean_err == 0:\n",
    "            break\n",
    "            \n",
    "        #Tinh chỉ số của một mẫu bị lỗi được chọn ngẫu nhiên, để tìm mảng các chỉ số của các mẫu bị lỗi\n",
    "        rand_err_idx = np.flatnonzero(errs)\n",
    "        \n",
    "        #Chọn ra một giá trị ngẫu nhiên trong mảng các chỉ số\n",
    "        i = np.random.choice(rand_err_idx)\n",
    "        \n",
    "        #Update w based on the fomular\n",
    "        w = w + Y[i]*X[i].reshape(-1,1)\n",
    "        \n",
    "        #Update n_interations\n",
    "        n_iterations += 1\n",
    "        \n",
    "    print('So lan hoi tu la: ', n_iterations)"
   ]
  },
  {
   "cell_type": "code",
   "execution_count": 16,
   "metadata": {},
   "outputs": [
    {
     "name": "stdout",
     "output_type": "stream",
     "text": [
      "So lan hoi tu la:  2\n"
     ]
    }
   ],
   "source": [
    "PLA(10)"
   ]
  },
  {
   "cell_type": "markdown",
   "metadata": {
    "deletable": false,
    "nbgrader": {
     "cell_type": "markdown",
     "checksum": "322a244b0fae3a20ec568a5099aaaec1",
     "grade": true,
     "grade_id": "c7",
     "locked": false,
     "points": 1,
     "schema_version": 3,
     "solution": true,
     "task": false
    }
   },
   "source": [
    "#### ĐÁP ÁN LÀ\n",
    "[a] 1"
   ]
  },
  {
   "cell_type": "markdown",
   "metadata": {},
   "source": [
    "## Câu 8 (1 điểm)"
   ]
  },
  {
   "cell_type": "code",
   "execution_count": 17,
   "metadata": {},
   "outputs": [],
   "source": [
    "def generate_target_f(X, ys):\n",
    "\n",
    "    # Generate two points from a uniform distribution over [-1, 1]x[-1, 1]\n",
    "    x1 = X[:, 1]\n",
    "    x2 = X[:, 2]\n",
    "    \n",
    "    # Compute the target W from these two points\n",
    "    target_f = np.sign(x1*x1 + x2*x2 - 0.6).reshape(ys.shape)\n",
    "    \n",
    "    return target_f"
   ]
  },
  {
   "cell_type": "code",
   "execution_count": 18,
   "metadata": {},
   "outputs": [],
   "source": [
    "def Q8(N,n):\n",
    "    avg_Ein = 0.0\n",
    "    for i in range (0, n):\n",
    "        #Generate w\n",
    "        target_w = generate_target_w()\n",
    "        \n",
    "        #Generates a data set\n",
    "        X, ys = generate_data(N, target_w)\n",
    "        \n",
    "        #Generate f\n",
    "        y = generate_target_f(X, ys)\n",
    "        \n",
    "        #Generate data noise\n",
    "        noise = np.random.choice(np.arange(N), size=int(0.1*N), replace=False)\n",
    "        X_noise = X[noise]\n",
    "        y_noise = -y[noise]\n",
    "        X_use = np.concatenate((X, X_noise), axis = 0)\n",
    "        Y_use = np.concatenate((y, y_noise), axis = 0)\n",
    "        \n",
    "        #Find w\n",
    "        X_dagger = np.dot(np.linalg.inv(np.dot(X_use.T, X_use)), X_use.T)\n",
    "        w = np.dot(X_dagger, Y_use)\n",
    "        \n",
    "        #Compute predictional output\n",
    "        predictions = np.sign(np.dot(X_use, w))\n",
    "        \n",
    "        #Compute average error\n",
    "        avg_Ein += np.mean(predictions!=Y_use)*1.0/n\n",
    "    \n",
    "    #Printf\n",
    "    print('Trung binh E_in: ', avg_Ein)        "
   ]
  },
  {
   "cell_type": "code",
   "execution_count": 19,
   "metadata": {},
   "outputs": [
    {
     "name": "stdout",
     "output_type": "stream",
     "text": [
      "Trung binh E_in:  0.50918\n"
     ]
    }
   ],
   "source": [
    "Q8(1000,1000)"
   ]
  },
  {
   "cell_type": "markdown",
   "metadata": {
    "deletable": false,
    "nbgrader": {
     "cell_type": "markdown",
     "checksum": "d81773f072cd15e4a27b6cd240a5d990",
     "grade": true,
     "grade_id": "c8",
     "locked": false,
     "points": 1,
     "schema_version": 3,
     "solution": true,
     "task": false
    }
   },
   "source": [
    "#### ĐÁP ÁN LÀ\n",
    "[d] 0.5 "
   ]
  },
  {
   "cell_type": "markdown",
   "metadata": {},
   "source": [
    "## Câu 9 (1 điểm)"
   ]
  },
  {
   "cell_type": "code",
   "execution_count": 20,
   "metadata": {},
   "outputs": [],
   "source": [
    "def Q9(N, n):\n",
    "    #Generate w\n",
    "    target_w = generate_target_w()\n",
    "\n",
    "    #Generates a data set\n",
    "    X, ys = generate_data(N, target_w)   \n",
    "\n",
    "    #Generate f\n",
    "    ys = np.array([0])\n",
    "    ys.resize(X.shape[0], 1)\n",
    "    for i in range (0, X.shape[0]):\n",
    "        ys[i] = np.sign(X[i][1]**2 + X[i][2]**2 - 0.6)\n",
    "\n",
    "    random = np.random.choice(np.arange(ys.shape[0]), size=int(0.1*ys.shape[0]), replace=False)\n",
    "\n",
    "    for i in range(0, random.size):\n",
    "        ys[random[i]] = -ys[random[i]]\n",
    "\n",
    "    T = np.array([])\n",
    "    T.resize(ys.shape[0], 6)\n",
    "    for i in range(0, ys.shape[0]):\n",
    "        T[i][0] = X[i][0]\n",
    "        T[i][1] = X[i][1]\n",
    "        T[i][2] = X[i][2]\n",
    "        T[i][3] = X[i][1]*X[i][2]\n",
    "        T[i][4] = X[i][1]*X[i][1]\n",
    "        T[i][5] = X[i][2]*X[i][2]\n",
    "\n",
    "        X_dagger = np.dot(np.linalg.inv(np.dot(T.T, T)), T.T)\n",
    "        w = np.dot(X_dagger, ys)\n",
    "\n",
    "    print(w)"
   ]
  },
  {
   "cell_type": "code",
   "execution_count": 21,
   "metadata": {},
   "outputs": [
    {
     "name": "stdout",
     "output_type": "stream",
     "text": [
      "[[-9.09664892e-01]\n",
      " [ 3.92455630e-03]\n",
      " [ 3.85209361e-02]\n",
      " [-1.01207849e-03]\n",
      " [ 1.42442395e+00]\n",
      " [ 1.55584078e+00]]\n"
     ]
    }
   ],
   "source": [
    "Q9(1000,1000)"
   ]
  },
  {
   "cell_type": "markdown",
   "metadata": {
    "deletable": false,
    "nbgrader": {
     "cell_type": "markdown",
     "checksum": "e814a2db0b8a53e4fddfee4bcbf405fc",
     "grade": true,
     "grade_id": "c9",
     "locked": false,
     "points": 1,
     "schema_version": 3,
     "solution": true,
     "task": false
    }
   },
   "source": [
    "#### ĐÁP ÁN LÀ\n",
    "[a] "
   ]
  },
  {
   "cell_type": "markdown",
   "metadata": {},
   "source": [
    "## Câu 10 (1 điểm)"
   ]
  },
  {
   "cell_type": "code",
   "execution_count": 22,
   "metadata": {},
   "outputs": [],
   "source": [
    "def Q10(N, n, w):\n",
    "    avg_error = 0.0\n",
    "    for i in range(0, n):\n",
    "        #Generate w\n",
    "        target_w = generate_target_w()\n",
    "\n",
    "        #Generates a data set\n",
    "        X, ys = generate_data(N, target_w)   \n",
    "\n",
    "        #Generate f\n",
    "        ys = np.array([0])\n",
    "        ys.resize(X.shape[0], 1)\n",
    "        for i in range (0, X.shape[0]):\n",
    "            ys[i] = np.sign(X[i][1]**2 + X[i][2]**2 - 0.6)\n",
    "\n",
    "        random = np.random.choice(np.arange(ys.shape[0]), size=int(0.1*ys.shape[0]), replace=False)\n",
    "\n",
    "        for i in range(0, random.size):\n",
    "            ys[random[i]] = -ys[random[i]]\n",
    "\n",
    "        T = np.array([])\n",
    "        T.resize(ys.shape[0], 6)\n",
    "        for i in range(0, ys.shape[0]):\n",
    "            T[i][0] = X[i][0]\n",
    "            T[i][1] = X[i][1]\n",
    "            T[i][2] = X[i][2]\n",
    "            T[i][3] = X[i][1]*X[i][2]\n",
    "            T[i][4] = X[i][1]*X[i][1]\n",
    "            T[i][5] = X[i][2]*X[i][2]\n",
    "            X_dagger = np.dot(np.linalg.inv(np.dot(T.T, T)), T.T)\n",
    "            w = np.dot(X_dagger, ys)\n",
    "            \n",
    "\n",
    "        predictions = np.dot(T, w)\n",
    "        mean = np.mean(np.sign(predictions)!=ys)\n",
    "        avg_error += (mean*1.0/n)\n",
    "    print('Trung binh Eout: ', avg_error)"
   ]
  },
  {
   "cell_type": "code",
   "execution_count": 23,
   "metadata": {},
   "outputs": [
    {
     "name": "stdout",
     "output_type": "stream",
     "text": [
      "[[-1.03986073]\n",
      " [ 0.04483643]\n",
      " [ 0.02871452]\n",
      " [ 0.15411305]\n",
      " [ 1.58562421]\n",
      " [ 1.69054184]]\n",
      "Trung binh Eout:  0.12391899999999985\n"
     ]
    }
   ],
   "source": [
    "w = Q9(1000,1000)\n",
    "\n",
    "Q10(1000, 1000, w)"
   ]
  },
  {
   "cell_type": "markdown",
   "metadata": {
    "deletable": false,
    "nbgrader": {
     "cell_type": "markdown",
     "checksum": "41cbf5c6d2b94eeae0a712be2181fef6",
     "grade": true,
     "grade_id": "c10",
     "locked": false,
     "points": 1,
     "schema_version": 3,
     "solution": true,
     "task": false
    }
   },
   "source": [
    "#### ĐÁP ÁN LÀ\n",
    "[b] 0.1"
   ]
  }
 ],
 "metadata": {
  "kernelspec": {
   "display_name": "Python 3",
   "language": "python",
   "name": "python3"
  },
  "language_info": {
   "codemirror_mode": {
    "name": "ipython",
    "version": 3
   },
   "file_extension": ".py",
   "mimetype": "text/x-python",
   "name": "python",
   "nbconvert_exporter": "python",
   "pygments_lexer": "ipython3",
   "version": "3.7.6"
  },
  "toc": {
   "base_numbering": 1,
   "nav_menu": {},
   "number_sections": true,
   "sideBar": true,
   "skip_h1_title": false,
   "title_cell": "Table of Contents",
   "title_sidebar": "Contents",
   "toc_cell": false,
   "toc_position": {},
   "toc_section_display": true,
   "toc_window_display": false
  },
  "varInspector": {
   "cols": {
    "lenName": 16,
    "lenType": 16,
    "lenVar": 40
   },
   "kernels_config": {
    "python": {
     "delete_cmd_postfix": "",
     "delete_cmd_prefix": "del ",
     "library": "var_list.py",
     "varRefreshCmd": "print(var_dic_list())"
    },
    "r": {
     "delete_cmd_postfix": ") ",
     "delete_cmd_prefix": "rm(",
     "library": "var_list.r",
     "varRefreshCmd": "cat(var_dic_list()) "
    }
   },
   "types_to_exclude": [
    "module",
    "function",
    "builtin_function_or_method",
    "instance",
    "_Feature"
   ],
   "window_display": false
  }
 },
 "nbformat": 4,
 "nbformat_minor": 4
}
